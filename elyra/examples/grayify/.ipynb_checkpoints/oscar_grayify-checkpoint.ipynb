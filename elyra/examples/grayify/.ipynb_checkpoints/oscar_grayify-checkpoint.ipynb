{
 "cells": [
  {
   "cell_type": "markdown",
   "id": "4a582302-1262-4748-9759-3c7dfd9f048f",
   "metadata": {
    "papermill": {
     "duration": 0.001498,
     "end_time": "2023-06-16T10:42:58.687114",
     "exception": false,
     "start_time": "2023-06-16T10:42:58.685616",
     "status": "completed"
    },
    "tags": []
   },
   "source": [
    "# Import libraries"
   ]
  },
  {
   "cell_type": "code",
   "execution_count": 1,
   "id": "263eb0c8-2061-488d-a047-68bdb7afeb7d",
   "metadata": {
    "execution": {
     "iopub.execute_input": "2023-06-16T10:42:58.697282Z",
     "iopub.status.busy": "2023-06-16T10:42:58.697088Z",
     "iopub.status.idle": "2023-06-16T10:42:58.823418Z",
     "shell.execute_reply": "2023-06-16T10:42:58.822832Z"
    },
    "papermill": {
     "duration": 0.129778,
     "end_time": "2023-06-16T10:42:58.824627",
     "exception": false,
     "start_time": "2023-06-16T10:42:58.694849",
     "status": "completed"
    },
    "tags": []
   },
   "outputs": [],
   "source": [
    "import os\n",
    "import json\n",
    "import sys\n",
    "!{sys.executable} -m pip install oscar-python\n",
    "!pip install liboidcagent\n",
    "from oscar_python.client import Client"
   ]
  },
  {
   "cell_type": "markdown",
   "id": "ba4bfca4-7937-47e9-ba62-822266f9c651",
   "metadata": {
    "papermill": {
     "duration": 0.00159,
     "end_time": "2023-06-16T10:42:58.827762",
     "exception": false,
     "start_time": "2023-06-16T10:42:58.826172",
     "status": "completed"
    },
    "tags": []
   },
   "source": [
    "# Read credentials"
   ]
  },
  {
   "cell_type": "code",
   "execution_count": 2,
   "id": "7d1fd172-a67d-465a-91ed-c0f5ee7026b7",
   "metadata": {
    "execution": {
     "iopub.execute_input": "2023-06-16T10:42:58.831086Z",
     "iopub.status.busy": "2023-06-16T10:42:58.830860Z",
     "iopub.status.idle": "2023-06-16T10:42:58.833971Z",
     "shell.execute_reply": "2023-06-16T10:42:58.833534Z"
    },
    "papermill": {
     "duration": 0.005998,
     "end_time": "2023-06-16T10:42:58.834921",
     "exception": false,
     "start_time": "2023-06-16T10:42:58.828923",
     "status": "completed"
    },
    "tags": []
   },
   "outputs": [],
   "source": [
    "json_path = os.path.join(\"./credentials\", os.environ.get(\"JSON_NAME\") + \".json\")\n",
    "with open(json_path) as f:\n",
    "    credentials = json.load(f)"
   ]
  },
  {
   "cell_type": "markdown",
   "id": "e4063125-74e9-4d39-b380-f77614a167ce",
   "metadata": {
    "papermill": {
     "duration": 0.001269,
     "end_time": "2023-06-16T10:42:58.837642",
     "exception": false,
     "start_time": "2023-06-16T10:42:58.836373",
     "status": "completed"
    },
    "tags": []
   },
   "source": [
    "# Create OSCAR client with the credentials"
   ]
  },
  {
   "cell_type": "code",
   "execution_count": 3,
   "id": "d4d8b047-6ff0-4c3c-831e-c4753bdd43ea",
   "metadata": {
    "execution": {
     "iopub.execute_input": "2023-06-16T10:42:58.840810Z",
     "iopub.status.busy": "2023-06-16T10:42:58.840601Z",
     "iopub.status.idle": "2023-06-16T10:42:58.842902Z",
     "shell.execute_reply": "2023-06-16T10:42:58.842561Z"
    },
    "papermill": {
     "duration": 0.005005,
     "end_time": "2023-06-16T10:42:58.843807",
     "exception": false,
     "start_time": "2023-06-16T10:42:58.838802",
     "status": "completed"
    },
    "tags": []
   },
   "outputs": [],
   "source": [
    "options_oidc = {'cluster_id': credentials['ID'],\n",
    "            'endpoint': credentials['ENDPOINT'],\n",
    "            'user': credentials['USER'],\n",
    "            'password': credentials['PASSWORD'],\n",
    "            'ssl': 'True'}\n",
    "\n",
    "oscar_client = Client(options = options_oidc)"
   ]
  },
  {
   "cell_type": "markdown",
   "id": "5394de5b-209d-48d6-8a99-5b52fae82f1d",
   "metadata": {
    "papermill": {
     "duration": 0.001276,
     "end_time": "2023-06-16T10:42:58.846433",
     "exception": false,
     "start_time": "2023-06-16T10:42:58.845157",
     "status": "completed"
    },
    "tags": []
   },
   "source": [
    "# Read text base 64 input"
   ]
  },
  {
   "cell_type": "code",
   "execution_count": 4,
   "id": "9d3b4ba9-8b1b-4756-93c2-8a5b03ebc8d1",
   "metadata": {
    "execution": {
     "iopub.execute_input": "2023-06-16T10:42:58.849563Z",
     "iopub.status.busy": "2023-06-16T10:42:58.849386Z",
     "iopub.status.idle": "2023-06-16T10:42:58.851985Z",
     "shell.execute_reply": "2023-06-16T10:42:58.851671Z"
    },
    "papermill": {
     "duration": 0.005233,
     "end_time": "2023-06-16T10:42:58.852906",
     "exception": false,
     "start_time": "2023-06-16T10:42:58.847673",
     "status": "completed"
    },
    "tags": []
   },
   "outputs": [],
   "source": [
    "image_name = os.environ.get(\"B64_INPUT\")\n",
    "output_file_name = os.getenv(\"DATA_OUTPUT\")\n",
    "output_file = f\"./data/{image_name.rsplit('.', 1)[0]}.txt\"\n",
    "\n",
    "with open(output_file, \"r\") as txt_file:\n",
    "    encoded_image = txt_file.read()"
   ]
  },
  {
   "cell_type": "markdown",
   "id": "9f10caa6-316a-45aa-8e9b-6a53a0a4dd58",
   "metadata": {
    "papermill": {
     "duration": 0.001241,
     "end_time": "2023-06-16T10:42:58.855497",
     "exception": false,
     "start_time": "2023-06-16T10:42:58.854256",
     "status": "completed"
    },
    "tags": []
   },
   "source": [
    "# Create oscar service: cowsay"
   ]
  },
  {
   "cell_type": "code",
   "execution_count": 5,
   "id": "f6b8bfa3-131f-464c-aeab-47a5d61cc093",
   "metadata": {
    "execution": {
     "iopub.execute_input": "2023-06-16T10:42:58.859096Z",
     "iopub.status.busy": "2023-06-16T10:42:58.858939Z",
     "iopub.status.idle": "2023-06-16T10:42:58.962461Z",
     "shell.execute_reply": "2023-06-16T10:42:58.961585Z"
    },
    "papermill": {
     "duration": 0.109421,
     "end_time": "2023-06-16T10:42:58.966593",
     "exception": false,
     "start_time": "2023-06-16T10:42:58.857172",
     "status": "completed"
    },
    "tags": []
   },
   "outputs": [
    {
     "name": "stdout",
     "output_type": "stream",
     "text": [
      "Error creating service:  A service with name 'grayify' is already present on the cluster\n"
     ]
    }
   ],
   "source": [
    "try:\n",
    "    oscar_client.create_service(\"grayify.yaml\")\n",
    "    print(\"Service created\")\n",
    "except Exception as ex:\n",
    "    print(\"Error creating service: \", ex)"
   ]
  },
  {
   "cell_type": "markdown",
   "id": "a54b3732-e2d0-4c66-a089-32328c212207",
   "metadata": {
    "papermill": {
     "duration": 0.003491,
     "end_time": "2023-06-16T10:42:58.972767",
     "exception": false,
     "start_time": "2023-06-16T10:42:58.969276",
     "status": "completed"
    },
    "tags": []
   },
   "source": [
    "# Use the service"
   ]
  },
  {
   "cell_type": "code",
   "execution_count": 6,
   "id": "f97746a2-eb2e-49d1-85dd-99b55d704347",
   "metadata": {
    "execution": {
     "iopub.execute_input": "2023-06-16T10:42:58.978640Z",
     "iopub.status.busy": "2023-06-16T10:42:58.978013Z",
     "iopub.status.idle": "2023-06-16T10:43:00.872477Z",
     "shell.execute_reply": "2023-06-16T10:43:00.871216Z"
    },
    "papermill": {
     "duration": 1.900336,
     "end_time": "2023-06-16T10:43:00.875404",
     "exception": false,
     "start_time": "2023-06-16T10:42:58.975068",
     "status": "completed"
    },
    "tags": []
   },
   "outputs": [],
   "source": [
    "response = oscar_client.run_service(\"grayify\", input=encoded_image)\n",
    "\n",
    "# Verify if response is complete\n",
    "if response.status_code == 200:\n",
    "    # Process grayify service response\n",
    "    data = response.text\n",
    "    #  print(\"data:\", data)\n",
    "    os.makedirs('./output/b64', exist_ok=True)\n",
    "\n",
    "    output_file_path = f\"./output/b64/{output_file_name}\"\n",
    "    with open(output_file_path, 'w') as f:\n",
    "        f.write(data)\n",
    "\n",
    "else:\n",
    "    print(f\"Error in the execution of 'grayify' service: {response.status_code} {response.text}\")"
   ]
  }
 ],
 "metadata": {
  "kernelspec": {
   "display_name": "Python 3 (ipykernel)",
   "language": "python",
   "name": "python3"
  },
  "language_info": {
   "codemirror_mode": {
    "name": "ipython",
    "version": 3
   },
   "file_extension": ".py",
   "mimetype": "text/x-python",
   "name": "python",
   "nbconvert_exporter": "python",
   "pygments_lexer": "ipython3",
   "version": "3.10.6"
  },
  "papermill": {
   "default_parameters": {},
   "duration": 3.027968,
   "end_time": "2023-06-16T10:43:01.096821",
   "environment_variables": {},
   "exception": null,
   "input_path": "/home/dieagra/Documents/ai4-compose1/elyra/examples/pipelines/grayify/oscar_grayify.ipynb",
   "output_path": "/home/dieagra/Documents/ai4-compose1/elyra/examples/pipelines/grayify/oscar_grayify.ipynb",
   "parameters": {},
   "start_time": "2023-06-16T10:42:58.068853",
   "version": "2.4.0"
  }
 },
 "nbformat": 4,
 "nbformat_minor": 5
}
