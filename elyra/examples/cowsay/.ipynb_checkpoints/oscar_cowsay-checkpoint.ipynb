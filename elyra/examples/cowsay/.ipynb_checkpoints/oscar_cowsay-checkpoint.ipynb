{
 "cells": [
  {
   "cell_type": "markdown",
   "id": "4a582302-1262-4748-9759-3c7dfd9f048f",
   "metadata": {
    "papermill": {
     "duration": 0.004294,
     "end_time": "2023-06-16T09:39:31.264398",
     "exception": false,
     "start_time": "2023-06-16T09:39:31.260104",
     "status": "completed"
    },
    "tags": []
   },
   "source": [
    "# Import libraries"
   ]
  },
  {
   "cell_type": "code",
   "execution_count": 1,
   "id": "263eb0c8-2061-488d-a047-68bdb7afeb7d",
   "metadata": {
    "execution": {
     "iopub.execute_input": "2023-06-16T09:39:31.278717Z",
     "iopub.status.busy": "2023-06-16T09:39:31.277886Z",
     "iopub.status.idle": "2023-06-16T09:39:31.415426Z",
     "shell.execute_reply": "2023-06-16T09:39:31.414971Z"
    },
    "papermill": {
     "duration": 0.144399,
     "end_time": "2023-06-16T09:39:31.416587",
     "exception": false,
     "start_time": "2023-06-16T09:39:31.272188",
     "status": "completed"
    },
    "tags": []
   },
   "outputs": [],
   "source": [
    "import os\n",
    "import json\n",
    "import sys\n",
    "!{sys.executable} -m pip install oscar-python\n",
    "!pip install liboidcagent\n",
    "from oscar_python.client import Client"
   ]
  },
  {
   "cell_type": "markdown",
   "id": "ba4bfca4-7937-47e9-ba62-822266f9c651",
   "metadata": {
    "papermill": {
     "duration": 0.007553,
     "end_time": "2023-06-16T09:39:31.425605",
     "exception": false,
     "start_time": "2023-06-16T09:39:31.418052",
     "status": "completed"
    },
    "tags": []
   },
   "source": [
    "# Read credentials"
   ]
  },
  {
   "cell_type": "code",
   "execution_count": 2,
   "id": "7d1fd172-a67d-465a-91ed-c0f5ee7026b7",
   "metadata": {
    "execution": {
     "iopub.execute_input": "2023-06-16T09:39:31.429130Z",
     "iopub.status.busy": "2023-06-16T09:39:31.428919Z",
     "iopub.status.idle": "2023-06-16T09:39:31.431783Z",
     "shell.execute_reply": "2023-06-16T09:39:31.431432Z"
    },
    "papermill": {
     "duration": 0.005677,
     "end_time": "2023-06-16T09:39:31.432591",
     "exception": false,
     "start_time": "2023-06-16T09:39:31.426914",
     "status": "completed"
    },
    "tags": []
   },
   "outputs": [],
   "source": [
    "json_path = os.path.join(\"./credentials\", os.environ.get(\"JSON_NAME\") + \".json\")\n",
    "with open(json_path) as f:\n",
    "    credentials = json.load(f)"
   ]
  },
  {
   "cell_type": "markdown",
   "id": "e4063125-74e9-4d39-b380-f77614a167ce",
   "metadata": {
    "papermill": {
     "duration": 0.001217,
     "end_time": "2023-06-16T09:39:31.435150",
     "exception": false,
     "start_time": "2023-06-16T09:39:31.433933",
     "status": "completed"
    },
    "tags": []
   },
   "source": [
    "# Create OSCAR client with the credentials"
   ]
  },
  {
   "cell_type": "code",
   "execution_count": 3,
   "id": "d4d8b047-6ff0-4c3c-831e-c4753bdd43ea",
   "metadata": {
    "execution": {
     "iopub.execute_input": "2023-06-16T09:39:31.438515Z",
     "iopub.status.busy": "2023-06-16T09:39:31.438306Z",
     "iopub.status.idle": "2023-06-16T09:39:31.440741Z",
     "shell.execute_reply": "2023-06-16T09:39:31.440383Z"
    },
    "papermill": {
     "duration": 0.005183,
     "end_time": "2023-06-16T09:39:31.441556",
     "exception": false,
     "start_time": "2023-06-16T09:39:31.436373",
     "status": "completed"
    },
    "tags": []
   },
   "outputs": [],
   "source": [
    "options_oidc = {'cluster_id': credentials['ID'],\n",
    "            'endpoint': credentials['ENDPOINT'],\n",
    "            'user': credentials['USER'],\n",
    "            'password': credentials['PASSWORD'],\n",
    "            'ssl': 'True'}\n",
    "\n",
    "oscar_client = Client(options = options_oidc)"
   ]
  },
  {
   "cell_type": "markdown",
   "id": "5394de5b-209d-48d6-8a99-5b52fae82f1d",
   "metadata": {
    "papermill": {
     "duration": 0.00129,
     "end_time": "2023-06-16T09:39:31.444325",
     "exception": false,
     "start_time": "2023-06-16T09:39:31.443035",
     "status": "completed"
    },
    "tags": []
   },
   "source": [
    "# Read text input"
   ]
  },
  {
   "cell_type": "code",
   "execution_count": 4,
   "id": "7810f3a8-2c68-4b0f-8001-b18a2d5a521d",
   "metadata": {
    "execution": {
     "iopub.execute_input": "2023-06-16T09:39:31.447837Z",
     "iopub.status.busy": "2023-06-16T09:39:31.447680Z",
     "iopub.status.idle": "2023-06-16T09:39:31.449989Z",
     "shell.execute_reply": "2023-06-16T09:39:31.449658Z"
    },
    "papermill": {
     "duration": 0.005092,
     "end_time": "2023-06-16T09:39:31.450888",
     "exception": false,
     "start_time": "2023-06-16T09:39:31.445796",
     "status": "completed"
    },
    "tags": []
   },
   "outputs": [],
   "source": [
    "text_input = os.environ.get(\"TEXT_INPUT\")\n",
    "message_dict = {\"message\": text_input}\n",
    "message_json = json.dumps(message_dict)"
   ]
  },
  {
   "cell_type": "markdown",
   "id": "9f10caa6-316a-45aa-8e9b-6a53a0a4dd58",
   "metadata": {
    "papermill": {
     "duration": 0.001462,
     "end_time": "2023-06-16T09:39:31.453697",
     "exception": false,
     "start_time": "2023-06-16T09:39:31.452235",
     "status": "completed"
    },
    "tags": []
   },
   "source": [
    "# Create oscar service: cowsay"
   ]
  },
  {
   "cell_type": "code",
   "execution_count": 5,
   "id": "f6b8bfa3-131f-464c-aeab-47a5d61cc093",
   "metadata": {
    "execution": {
     "iopub.execute_input": "2023-06-16T09:39:31.456926Z",
     "iopub.status.busy": "2023-06-16T09:39:31.456633Z",
     "iopub.status.idle": "2023-06-16T09:39:31.772596Z",
     "shell.execute_reply": "2023-06-16T09:39:31.771450Z"
    },
    "papermill": {
     "duration": 0.320459,
     "end_time": "2023-06-16T09:39:31.775388",
     "exception": false,
     "start_time": "2023-06-16T09:39:31.454929",
     "status": "completed"
    },
    "tags": []
   },
   "outputs": [
    {
     "name": "stdout",
     "output_type": "stream",
     "text": [
      "Error creating service:  A service with name 'cowsay' is already present on the cluster\n"
     ]
    }
   ],
   "source": [
    "try:\n",
    "    oscar_client.create_service(\"cowsay.yaml\")\n",
    "    print(\"Service created\")\n",
    "except Exception as ex:\n",
    "    print(\"Error creating service: \", ex)"
   ]
  },
  {
   "cell_type": "markdown",
   "id": "a54b3732-e2d0-4c66-a089-32328c212207",
   "metadata": {
    "papermill": {
     "duration": 0.007537,
     "end_time": "2023-06-16T09:39:31.787452",
     "exception": false,
     "start_time": "2023-06-16T09:39:31.779915",
     "status": "completed"
    },
    "tags": []
   },
   "source": [
    "# Use the service"
   ]
  },
  {
   "cell_type": "code",
   "execution_count": 6,
   "id": "26494a58-7c32-4020-85d3-bddc5e412fed",
   "metadata": {
    "execution": {
     "iopub.execute_input": "2023-06-16T09:39:31.796334Z",
     "iopub.status.busy": "2023-06-16T09:39:31.796030Z",
     "iopub.status.idle": "2023-06-16T09:39:34.548839Z",
     "shell.execute_reply": "2023-06-16T09:39:34.547387Z"
    },
    "papermill": {
     "duration": 2.760553,
     "end_time": "2023-06-16T09:39:34.551702",
     "exception": false,
     "start_time": "2023-06-16T09:39:31.791149",
     "status": "completed"
    },
    "tags": []
   },
   "outputs": [
    {
     "name": "stdout",
     "output_type": "stream",
     "text": [
      " _______\n",
      "< hello >\n",
      " -------\n",
      "        \\   ^__^\n",
      "         \\  (oo)\\_______\n",
      "            (__)\\       )\\/\\\n",
      "                ||----w |\n",
      "                ||     ||\n",
      "\n",
      "\n"
     ]
    }
   ],
   "source": [
    "response = oscar_client.run_service(\"cowsay\", input=message_json)\n",
    "\n",
    "if response.status_code == 200:\n",
    "    cowsay_data = response.text\n",
    "    print(cowsay_data)\n",
    "\n",
    "\n",
    "else:\n",
    "    print(f\"Error en la ejecución del servicio 'cowsay': {response.status_code} {response.text}\")"
   ]
  }
 ],
 "metadata": {
  "kernelspec": {
   "display_name": "Python 3 (ipykernel)",
   "language": "python",
   "name": "python3"
  },
  "language_info": {
   "codemirror_mode": {
    "name": "ipython",
    "version": 3
   },
   "file_extension": ".py",
   "mimetype": "text/x-python",
   "name": "python",
   "nbconvert_exporter": "python",
   "pygments_lexer": "ipython3",
   "version": "3.10.6"
  },
  "papermill": {
   "default_parameters": {},
   "duration": 4.282465,
   "end_time": "2023-06-16T09:39:34.776716",
   "environment_variables": {},
   "exception": null,
   "input_path": "/home/dieagra/Documents/ai4-compose1/elyra/examples/pipelines/cowsay/oscar_cowsay.ipynb",
   "output_path": "/home/dieagra/Documents/ai4-compose1/elyra/examples/pipelines/cowsay/oscar_cowsay.ipynb",
   "parameters": {},
   "start_time": "2023-06-16T09:39:30.494251",
   "version": "2.4.0"
  }
 },
 "nbformat": 4,
 "nbformat_minor": 5
}
