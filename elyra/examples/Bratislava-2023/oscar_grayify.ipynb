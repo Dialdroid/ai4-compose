{
 "cells": [
  {
   "cell_type": "markdown",
   "id": "4a582302-1262-4748-9759-3c7dfd9f048f",
   "metadata": {
    "papermill": {
     "duration": 0.008259,
     "end_time": "2023-11-15T11:44:23.569343",
     "exception": false,
     "start_time": "2023-11-15T11:44:23.561084",
     "status": "completed"
    },
    "tags": []
   },
   "source": [
    "# Import libraries"
   ]
  },
  {
   "cell_type": "code",
   "execution_count": 1,
   "id": "263eb0c8-2061-488d-a047-68bdb7afeb7d",
   "metadata": {
    "execution": {
     "iopub.execute_input": "2023-11-15T11:44:23.604002Z",
     "iopub.status.busy": "2023-11-15T11:44:23.596002Z",
     "iopub.status.idle": "2023-11-15T11:44:31.681372Z",
     "shell.execute_reply": "2023-11-15T11:44:31.680624Z"
    },
    "papermill": {
     "duration": 8.10413,
     "end_time": "2023-11-15T11:44:31.681767",
     "exception": false,
     "start_time": "2023-11-15T11:44:23.577637",
     "status": "completed"
    },
    "tags": []
   },
   "outputs": [
    {
     "name": "stdout",
     "output_type": "stream",
     "text": [
      "Requirement already satisfied: oscar-python in /opt/conda/lib/python3.10/site-packages (1.2.1)\r\n",
      "Requirement already satisfied: setuptools>=40.8.0 in /opt/conda/lib/python3.10/site-packages (from oscar-python) (65.5.1)\r\n",
      "Requirement already satisfied: pyyaml in /opt/conda/lib/python3.10/site-packages (from oscar-python) (5.4.1)\r\n",
      "Requirement already satisfied: aiohttp in /opt/conda/lib/python3.10/site-packages (from oscar-python) (3.8.4)\r\n",
      "Requirement already satisfied: webdavclient3==3.14.6 in /opt/conda/lib/python3.10/site-packages (from oscar-python) (3.14.6)\r\n",
      "Requirement already satisfied: requests in /opt/conda/lib/python3.10/site-packages (from oscar-python) (2.28.1)\r\n",
      "Requirement already satisfied: boto3 in /opt/conda/lib/python3.10/site-packages (from oscar-python) (1.27.1)\r\n",
      "Requirement already satisfied: lxml in /opt/conda/lib/python3.10/site-packages (from webdavclient3==3.14.6->oscar-python) (4.9.2)\r\n",
      "Requirement already satisfied: python-dateutil in /opt/conda/lib/python3.10/site-packages (from webdavclient3==3.14.6->oscar-python) (2.8.2)\r\n",
      "Requirement already satisfied: charset-normalizer<4.0,>=2.0 in /opt/conda/lib/python3.10/site-packages (from aiohttp->oscar-python) (2.1.1)\r\n",
      "Requirement already satisfied: multidict<7.0,>=4.5 in /opt/conda/lib/python3.10/site-packages (from aiohttp->oscar-python) (6.0.4)\r\n",
      "Requirement already satisfied: yarl<2.0,>=1.0 in /opt/conda/lib/python3.10/site-packages (from aiohttp->oscar-python) (1.9.2)\r\n",
      "Requirement already satisfied: frozenlist>=1.1.1 in /opt/conda/lib/python3.10/site-packages (from aiohttp->oscar-python) (1.3.3)\r\n",
      "Requirement already satisfied: async-timeout<5.0,>=4.0.0a3 in /opt/conda/lib/python3.10/site-packages (from aiohttp->oscar-python) (4.0.2)\r\n",
      "Requirement already satisfied: aiosignal>=1.1.2 in /opt/conda/lib/python3.10/site-packages (from aiohttp->oscar-python) (1.3.1)\r\n",
      "Requirement already satisfied: attrs>=17.3.0 in /opt/conda/lib/python3.10/site-packages (from aiohttp->oscar-python) (22.1.0)\r\n",
      "Requirement already satisfied: botocore<1.31.0,>=1.30.1 in /opt/conda/lib/python3.10/site-packages (from boto3->oscar-python) (1.30.1)\r\n",
      "Requirement already satisfied: s3transfer<0.7.0,>=0.6.0 in /opt/conda/lib/python3.10/site-packages (from boto3->oscar-python) (0.6.1)\r\n",
      "Requirement already satisfied: jmespath<2.0.0,>=0.7.1 in /opt/conda/lib/python3.10/site-packages (from boto3->oscar-python) (1.0.1)\r\n",
      "Requirement already satisfied: idna<4,>=2.5 in /opt/conda/lib/python3.10/site-packages (from requests->oscar-python) (3.4)\r\n",
      "Requirement already satisfied: certifi>=2017.4.17 in /opt/conda/lib/python3.10/site-packages (from requests->oscar-python) (2023.5.7)\r\n",
      "Requirement already satisfied: urllib3<1.27,>=1.21.1 in /opt/conda/lib/python3.10/site-packages (from requests->oscar-python) (1.26.11)\r\n"
     ]
    },
    {
     "name": "stdout",
     "output_type": "stream",
     "text": [
      "Requirement already satisfied: six>=1.5 in /opt/conda/lib/python3.10/site-packages (from python-dateutil->webdavclient3==3.14.6->oscar-python) (1.16.0)\r\n"
     ]
    },
    {
     "name": "stdout",
     "output_type": "stream",
     "text": [
      "Requirement already satisfied: liboidcagent in /opt/conda/lib/python3.10/site-packages (0.6.0)\r\n",
      "Requirement already satisfied: PyNaCl>=1.2.0 in /opt/conda/lib/python3.10/site-packages (from liboidcagent) (1.5.0)\r\n",
      "Requirement already satisfied: cffi>=1.4.1 in /opt/conda/lib/python3.10/site-packages (from PyNaCl>=1.2.0->liboidcagent) (1.15.1)\r\n",
      "Requirement already satisfied: pycparser in /opt/conda/lib/python3.10/site-packages (from cffi>=1.4.1->PyNaCl>=1.2.0->liboidcagent) (2.21)\r\n"
     ]
    }
   ],
   "source": [
    "import os\n",
    "import json\n",
    "import sys\n",
    "!{sys.executable} -m pip install oscar-python\n",
    "!pip install liboidcagent\n",
    "from oscar_python.client import Client"
   ]
  },
  {
   "cell_type": "markdown",
   "id": "92b4dd0d-5545-47a0-94a2-2783635f8f88",
   "metadata": {
    "papermill": {
     "duration": 0.00796,
     "end_time": "2023-11-15T11:44:31.699380",
     "exception": false,
     "start_time": "2023-11-15T11:44:31.691420",
     "status": "completed"
    },
    "tags": []
   },
   "source": [
    "# GET TOKEN FROM EGI"
   ]
  },
  {
   "cell_type": "code",
   "execution_count": 2,
   "id": "3984c5fd-06d6-4761-98ed-086aca4aaeb1",
   "metadata": {
    "execution": {
     "iopub.execute_input": "2023-11-15T11:44:31.721560Z",
     "iopub.status.busy": "2023-11-15T11:44:31.720849Z",
     "iopub.status.idle": "2023-11-15T11:44:31.725695Z",
     "shell.execute_reply": "2023-11-15T11:44:31.725028Z"
    },
    "papermill": {
     "duration": 0.019145,
     "end_time": "2023-11-15T11:44:31.725987",
     "exception": false,
     "start_time": "2023-11-15T11:44:31.706842",
     "status": "completed"
    },
    "tags": []
   },
   "outputs": [],
   "source": [
    "with open(\"/var/run/secrets/egi.eu/access_token\") as f:\n",
    "    access_token = f.read()"
   ]
  },
  {
   "cell_type": "markdown",
   "id": "f4d0927b-3fef-4fab-b524-e6b5e179ea40",
   "metadata": {
    "papermill": {
     "duration": 0.007822,
     "end_time": "2023-11-15T11:44:31.741495",
     "exception": false,
     "start_time": "2023-11-15T11:44:31.733673",
     "status": "completed"
    },
    "tags": []
   },
   "source": [
    "# Create OSCAR client with EGI TOKEN"
   ]
  },
  {
   "cell_type": "code",
   "execution_count": 3,
   "id": "e979405f-bd76-4964-8fec-df395e5f763f",
   "metadata": {
    "execution": {
     "iopub.execute_input": "2023-11-15T11:44:31.765028Z",
     "iopub.status.busy": "2023-11-15T11:44:31.764315Z",
     "iopub.status.idle": "2023-11-15T11:44:31.769227Z",
     "shell.execute_reply": "2023-11-15T11:44:31.768465Z"
    },
    "papermill": {
     "duration": 0.020165,
     "end_time": "2023-11-15T11:44:31.769548",
     "exception": false,
     "start_time": "2023-11-15T11:44:31.749383",
     "status": "completed"
    },
    "tags": []
   },
   "outputs": [],
   "source": [
    "options_oidc = {'cluster_id':'oscar-egi-cloud',\n",
    "            'endpoint':'https://inference.cloud.ai4eosc.eu',\n",
    "            'oidc_token': access_token,\n",
    "            'ssl':'True'}\n",
    "\n",
    "oscar_client = Client(options=options_oidc)"
   ]
  },
  {
   "cell_type": "markdown",
   "id": "5394de5b-209d-48d6-8a99-5b52fae82f1d",
   "metadata": {
    "papermill": {
     "duration": 0.00791,
     "end_time": "2023-11-15T11:44:31.786093",
     "exception": false,
     "start_time": "2023-11-15T11:44:31.778183",
     "status": "completed"
    },
    "tags": []
   },
   "source": [
    "# Read text base 64 input"
   ]
  },
  {
   "cell_type": "code",
   "execution_count": 4,
   "id": "9d3b4ba9-8b1b-4756-93c2-8a5b03ebc8d1",
   "metadata": {
    "execution": {
     "iopub.execute_input": "2023-11-15T11:44:31.809198Z",
     "iopub.status.busy": "2023-11-15T11:44:31.808491Z",
     "iopub.status.idle": "2023-11-15T11:44:31.812814Z",
     "shell.execute_reply": "2023-11-15T11:44:31.813222Z"
    },
    "papermill": {
     "duration": 0.020133,
     "end_time": "2023-11-15T11:44:31.813573",
     "exception": false,
     "start_time": "2023-11-15T11:44:31.793440",
     "status": "completed"
    },
    "tags": []
   },
   "outputs": [],
   "source": [
    "# Retrieve the environment variables\n",
    "input_path = os.environ.get('INPUT')\n",
    "output_path = os.environ.get('OUTPUT')\n",
    "output_file = os.path.join(output_path, \"output.txt\")"
   ]
  },
  {
   "cell_type": "markdown",
   "id": "a54b3732-e2d0-4c66-a089-32328c212207",
   "metadata": {
    "papermill": {
     "duration": 0.008562,
     "end_time": "2023-11-15T11:44:31.829834",
     "exception": false,
     "start_time": "2023-11-15T11:44:31.821272",
     "status": "completed"
    },
    "tags": []
   },
   "source": [
    "# Use the service"
   ]
  },
  {
   "cell_type": "code",
   "execution_count": 5,
   "id": "f97746a2-eb2e-49d1-85dd-99b55d704347",
   "metadata": {
    "execution": {
     "iopub.execute_input": "2023-11-15T11:44:31.859085Z",
     "iopub.status.busy": "2023-11-15T11:44:31.853560Z",
     "iopub.status.idle": "2023-11-15T11:44:39.718904Z",
     "shell.execute_reply": "2023-11-15T11:44:39.719353Z"
    },
    "papermill": {
     "duration": 7.877357,
     "end_time": "2023-11-15T11:44:39.719796",
     "exception": false,
     "start_time": "2023-11-15T11:44:31.842439",
     "status": "completed"
    },
    "tags": []
   },
   "outputs": [
    {
     "name": "stdout",
     "output_type": "stream",
     "text": [
      "Error decoding output: Invalid base64 string.\n"
     ]
    }
   ],
   "source": [
    "response = oscar_client.run_service(\"grayify\", input=input_path, output=output_file)\n",
    "if response.status_code == 200:\n",
    "    # Process grayify service response\n",
    "    data = response.text\n",
    "    # No need to create a new directory, as output_file already includes the correct path\n",
    "    # os.makedirs('./output/b64', exist_ok=True)  # Esta línea ya no es necesaria\n",
    "\n",
    "    # Use the output_file variable directly\n",
    "    with open(output_file, 'w') as f:\n",
    "        f.write(data)\n",
    "else:\n",
    "    print(f\"Error in the execution of 'grayify' service: {response.status_code} {response.text}\")"
   ]
  }
 ],
 "metadata": {
  "kernelspec": {
   "display_name": "Python 3 (ipykernel)",
   "language": "python",
   "name": "python3"
  },
  "language_info": {
   "codemirror_mode": {
    "name": "ipython",
    "version": 3
   },
   "file_extension": ".py",
   "mimetype": "text/x-python",
   "name": "python",
   "nbconvert_exporter": "python",
   "pygments_lexer": "ipython3",
   "version": "3.10.6"
  },
  "papermill": {
   "default_parameters": {},
   "duration": 17.766535,
   "end_time": "2023-11-15T11:44:40.162955",
   "environment_variables": {},
   "exception": null,
   "input_path": "/home/jovyan/presentacion/ai4-compose/elyra/examples/Bratislava-2023/oscar_grayify.ipynb",
   "output_path": "/home/jovyan/presentacion/ai4-compose/elyra/examples/Bratislava-2023/oscar_grayify.ipynb",
   "parameters": {},
   "start_time": "2023-11-15T11:44:22.396420",
   "version": "2.4.0"
  }
 },
 "nbformat": 4,
 "nbformat_minor": 5
}