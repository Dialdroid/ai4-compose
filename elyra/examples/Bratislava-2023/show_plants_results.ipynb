{
 "cells": [
  {
   "cell_type": "markdown",
   "id": "344681ac-bc8d-4428-9952-7bbb29bed0a1",
   "metadata": {
    "papermill": {
     "duration": 0.005651,
     "end_time": "2023-11-15T11:45:17.157308",
     "exception": false,
     "start_time": "2023-11-15T11:45:17.151657",
     "status": "completed"
    },
    "tags": []
   },
   "source": [
    "# Import libraries"
   ]
  },
  {
   "cell_type": "code",
   "execution_count": 1,
   "id": "111c3215-2928-4ae2-b88d-79952c1528ef",
   "metadata": {
    "execution": {
     "iopub.execute_input": "2023-11-15T11:45:17.187724Z",
     "iopub.status.busy": "2023-11-15T11:45:17.177696Z",
     "iopub.status.idle": "2023-11-15T11:45:17.202561Z",
     "shell.execute_reply": "2023-11-15T11:45:17.201933Z"
    },
    "papermill": {
     "duration": 0.039569,
     "end_time": "2023-11-15T11:45:17.202944",
     "exception": false,
     "start_time": "2023-11-15T11:45:17.163375",
     "status": "completed"
    },
    "tags": []
   },
   "outputs": [
    {
     "name": "stdout",
     "output_type": "stream",
     "text": [
      "{'labels': ['Picea obovata', 'Picea sitchensis', 'Picea glauca', 'Picea abies', 'Abies fraseri'], 'probabilities': [0.7069018483161926, 0.22086003422737122, 0.029265761375427246, 0.014926698990166187, 0.006395372096449137], 'labels_info': ['', '', '', '', ''], 'links': {'Google Images': ['https://www.google.es/search?tbm=isch&q=Picea+obovata', 'https://www.google.es/search?tbm=isch&q=Picea+sitchensis', 'https://www.google.es/search?tbm=isch&q=Picea+glauca', 'https://www.google.es/search?tbm=isch&q=Picea+abies', 'https://www.google.es/search?tbm=isch&q=Abies+fraseri'], 'Wikipedia': ['https://en.wikipedia.org/wiki/Picea_obovata', 'https://en.wikipedia.org/wiki/Picea_sitchensis', 'https://en.wikipedia.org/wiki/Picea_glauca', 'https://en.wikipedia.org/wiki/Picea_abies', 'https://en.wikipedia.org/wiki/Abies_fraseri']}}\n",
      "\n"
     ]
    }
   ],
   "source": [
    "import os\n",
    "import base64\n",
    "\n",
    "# Obtener los paths de los archivos\n",
    "input_file_path = os.path.join('output', 'base64', os.environ.get('INPUT'))\n",
    "output_dir_path = os.path.join('output', 'data')\n",
    "output_file_path = os.path.join(output_dir_path, os.environ.get('OUTPUT'))\n",
    "\n",
    "# Asegurarse de que el directorio de salida exista\n",
    "os.makedirs(output_dir_path, exist_ok=True)\n",
    "\n",
    "# Leer el contenido del archivo base64\n",
    "with open(input_file_path, 'r') as file:\n",
    "    base64_data = file.read()\n",
    "\n",
    "# Decodificar la cadena base64\n",
    "decoded_data = base64.b64decode(base64_data)\n",
    "\n",
    "# Convertir los datos decodificados a texto (si es necesario)\n",
    "# Si los datos son ya una cadena de texto después de la decodificación, puedes omitir este paso\n",
    "text_data = decoded_data.decode('utf-8')\n",
    "\n",
    "# Guardar los datos en un archivo\n",
    "with open(output_file_path, 'w') as file:\n",
    "    file.write(text_data)\n",
    "\n",
    "print(text_data)"
   ]
  }
 ],
 "metadata": {
  "kernelspec": {
   "display_name": "Python 3 (ipykernel)",
   "language": "python",
   "name": "python3"
  },
  "language_info": {
   "codemirror_mode": {
    "name": "ipython",
    "version": 3
   },
   "file_extension": ".py",
   "mimetype": "text/x-python",
   "name": "python",
   "nbconvert_exporter": "python",
   "pygments_lexer": "ipython3",
   "version": "3.10.6"
  },
  "papermill": {
   "default_parameters": {},
   "duration": 4.04413,
   "end_time": "2023-11-15T11:45:20.019501",
   "environment_variables": {},
   "exception": null,
   "input_path": "/home/jovyan/presentacion/ai4-compose/elyra/examples/Bratislava-2023/show_plants_results.ipynb",
   "output_path": "/home/jovyan/presentacion/ai4-compose/elyra/examples/Bratislava-2023/show_plants_results.ipynb",
   "parameters": {},
   "start_time": "2023-11-15T11:45:15.975371",
   "version": "2.3.4"
  }
 },
 "nbformat": 4,
 "nbformat_minor": 5
}