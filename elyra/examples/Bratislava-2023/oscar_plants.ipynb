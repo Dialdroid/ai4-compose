{
 "cells": [
  {
   "cell_type": "markdown",
   "id": "4a582302-1262-4748-9759-3c7dfd9f048f",
   "metadata": {
    "papermill": {
     "duration": 0.009126,
     "end_time": "2023-11-15T11:44:43.962167",
     "exception": false,
     "start_time": "2023-11-15T11:44:43.953041",
     "status": "completed"
    },
    "tags": []
   },
   "source": [
    "# Import libraries"
   ]
  },
  {
   "cell_type": "code",
   "execution_count": 1,
   "id": "263eb0c8-2061-488d-a047-68bdb7afeb7d",
   "metadata": {
    "execution": {
     "iopub.execute_input": "2023-11-15T11:44:43.995214Z",
     "iopub.status.busy": "2023-11-15T11:44:43.988206Z",
     "iopub.status.idle": "2023-11-15T11:44:52.466307Z",
     "shell.execute_reply": "2023-11-15T11:44:52.465708Z"
    },
    "papermill": {
     "duration": 8.496489,
     "end_time": "2023-11-15T11:44:52.466712",
     "exception": false,
     "start_time": "2023-11-15T11:44:43.970223",
     "status": "completed"
    },
    "tags": []
   },
   "outputs": [
    {
     "name": "stdout",
     "output_type": "stream",
     "text": [
      "Requirement already satisfied: oscar-python in /opt/conda/lib/python3.10/site-packages (1.2.1)\r\n",
      "Requirement already satisfied: boto3 in /opt/conda/lib/python3.10/site-packages (from oscar-python) (1.27.1)\r\n",
      "Requirement already satisfied: requests in /opt/conda/lib/python3.10/site-packages (from oscar-python) (2.28.1)\r\n",
      "Requirement already satisfied: setuptools>=40.8.0 in /opt/conda/lib/python3.10/site-packages (from oscar-python) (65.5.1)\r\n",
      "Requirement already satisfied: webdavclient3==3.14.6 in /opt/conda/lib/python3.10/site-packages (from oscar-python) (3.14.6)\r\n",
      "Requirement already satisfied: aiohttp in /opt/conda/lib/python3.10/site-packages (from oscar-python) (3.8.4)\r\n",
      "Requirement already satisfied: pyyaml in /opt/conda/lib/python3.10/site-packages (from oscar-python) (5.4.1)\r\n",
      "Requirement already satisfied: lxml in /opt/conda/lib/python3.10/site-packages (from webdavclient3==3.14.6->oscar-python) (4.9.2)\r\n",
      "Requirement already satisfied: python-dateutil in /opt/conda/lib/python3.10/site-packages (from webdavclient3==3.14.6->oscar-python) (2.8.2)\r\n",
      "Requirement already satisfied: attrs>=17.3.0 in /opt/conda/lib/python3.10/site-packages (from aiohttp->oscar-python) (22.1.0)\r\n"
     ]
    },
    {
     "name": "stdout",
     "output_type": "stream",
     "text": [
      "Requirement already satisfied: aiosignal>=1.1.2 in /opt/conda/lib/python3.10/site-packages (from aiohttp->oscar-python) (1.3.1)\r\n",
      "Requirement already satisfied: yarl<2.0,>=1.0 in /opt/conda/lib/python3.10/site-packages (from aiohttp->oscar-python) (1.9.2)\r\n",
      "Requirement already satisfied: multidict<7.0,>=4.5 in /opt/conda/lib/python3.10/site-packages (from aiohttp->oscar-python) (6.0.4)\r\n",
      "Requirement already satisfied: frozenlist>=1.1.1 in /opt/conda/lib/python3.10/site-packages (from aiohttp->oscar-python) (1.3.3)\r\n",
      "Requirement already satisfied: async-timeout<5.0,>=4.0.0a3 in /opt/conda/lib/python3.10/site-packages (from aiohttp->oscar-python) (4.0.2)\r\n",
      "Requirement already satisfied: charset-normalizer<4.0,>=2.0 in /opt/conda/lib/python3.10/site-packages (from aiohttp->oscar-python) (2.1.1)\r\n",
      "Requirement already satisfied: jmespath<2.0.0,>=0.7.1 in /opt/conda/lib/python3.10/site-packages (from boto3->oscar-python) (1.0.1)\r\n",
      "Requirement already satisfied: s3transfer<0.7.0,>=0.6.0 in /opt/conda/lib/python3.10/site-packages (from boto3->oscar-python) (0.6.1)\r\n",
      "Requirement already satisfied: botocore<1.31.0,>=1.30.1 in /opt/conda/lib/python3.10/site-packages (from boto3->oscar-python) (1.30.1)\r\n",
      "Requirement already satisfied: urllib3<1.27,>=1.21.1 in /opt/conda/lib/python3.10/site-packages (from requests->oscar-python) (1.26.11)\r\n",
      "Requirement already satisfied: idna<4,>=2.5 in /opt/conda/lib/python3.10/site-packages (from requests->oscar-python) (3.4)\r\n",
      "Requirement already satisfied: certifi>=2017.4.17 in /opt/conda/lib/python3.10/site-packages (from requests->oscar-python) (2023.5.7)\r\n"
     ]
    },
    {
     "name": "stdout",
     "output_type": "stream",
     "text": [
      "Requirement already satisfied: six>=1.5 in /opt/conda/lib/python3.10/site-packages (from python-dateutil->webdavclient3==3.14.6->oscar-python) (1.16.0)\r\n"
     ]
    },
    {
     "name": "stdout",
     "output_type": "stream",
     "text": [
      "Requirement already satisfied: liboidcagent in /opt/conda/lib/python3.10/site-packages (0.6.0)\r\n",
      "Requirement already satisfied: PyNaCl>=1.2.0 in /opt/conda/lib/python3.10/site-packages (from liboidcagent) (1.5.0)\r\n",
      "Requirement already satisfied: cffi>=1.4.1 in /opt/conda/lib/python3.10/site-packages (from PyNaCl>=1.2.0->liboidcagent) (1.15.1)\r\n",
      "Requirement already satisfied: pycparser in /opt/conda/lib/python3.10/site-packages (from cffi>=1.4.1->PyNaCl>=1.2.0->liboidcagent) (2.21)\r\n"
     ]
    }
   ],
   "source": [
    "import os\n",
    "import json\n",
    "import sys\n",
    "!{sys.executable} -m pip install oscar-python\n",
    "!pip install liboidcagent\n",
    "from oscar_python.client import Client"
   ]
  },
  {
   "cell_type": "markdown",
   "id": "b93f68c6-6fc2-48a0-a7ee-f3adce4e642a",
   "metadata": {
    "papermill": {
     "duration": 0.008357,
     "end_time": "2023-11-15T11:44:52.484132",
     "exception": false,
     "start_time": "2023-11-15T11:44:52.475775",
     "status": "completed"
    },
    "tags": []
   },
   "source": [
    "# GET TOKEN FROM EGI"
   ]
  },
  {
   "cell_type": "code",
   "execution_count": 2,
   "id": "d8f6c022-4c7c-4cb9-995e-2247de239de3",
   "metadata": {
    "execution": {
     "iopub.execute_input": "2023-11-15T11:44:52.510624Z",
     "iopub.status.busy": "2023-11-15T11:44:52.509942Z",
     "iopub.status.idle": "2023-11-15T11:44:52.515612Z",
     "shell.execute_reply": "2023-11-15T11:44:52.514900Z"
    },
    "papermill": {
     "duration": 0.023543,
     "end_time": "2023-11-15T11:44:52.515907",
     "exception": false,
     "start_time": "2023-11-15T11:44:52.492364",
     "status": "completed"
    },
    "tags": []
   },
   "outputs": [],
   "source": [
    "with open(\"/var/run/secrets/egi.eu/access_token\") as f:\n",
    "    access_token = f.read()"
   ]
  },
  {
   "cell_type": "markdown",
   "id": "a25afac0-2242-49c4-af8d-0bcf7a74a89a",
   "metadata": {
    "papermill": {
     "duration": 0.009011,
     "end_time": "2023-11-15T11:44:52.533627",
     "exception": false,
     "start_time": "2023-11-15T11:44:52.524616",
     "status": "completed"
    },
    "tags": []
   },
   "source": [
    "# Create OSCAR client with EGI TOKEN¶"
   ]
  },
  {
   "cell_type": "code",
   "execution_count": 3,
   "id": "d81c5392-d959-4a0a-94c8-72e0152f1b35",
   "metadata": {
    "execution": {
     "iopub.execute_input": "2023-11-15T11:44:52.558377Z",
     "iopub.status.busy": "2023-11-15T11:44:52.557677Z",
     "iopub.status.idle": "2023-11-15T11:44:52.562518Z",
     "shell.execute_reply": "2023-11-15T11:44:52.562069Z"
    },
    "papermill": {
     "duration": 0.020776,
     "end_time": "2023-11-15T11:44:52.562803",
     "exception": false,
     "start_time": "2023-11-15T11:44:52.542027",
     "status": "completed"
    },
    "tags": []
   },
   "outputs": [],
   "source": [
    "options_oidc = {'cluster_id':'oscar-egi-cloud',\n",
    "            'endpoint':'https://inference.cloud.ai4eosc.eu',\n",
    "            'oidc_token': access_token,\n",
    "            'ssl':'True'}\n",
    "\n",
    "oscar_client = Client(options=options_oidc)"
   ]
  },
  {
   "cell_type": "markdown",
   "id": "5394de5b-209d-48d6-8a99-5b52fae82f1d",
   "metadata": {
    "papermill": {
     "duration": 0.007903,
     "end_time": "2023-11-15T11:44:52.578429",
     "exception": false,
     "start_time": "2023-11-15T11:44:52.570526",
     "status": "completed"
    },
    "tags": []
   },
   "source": [
    "# Read text base 64 input"
   ]
  },
  {
   "cell_type": "code",
   "execution_count": 4,
   "id": "9d3b4ba9-8b1b-4756-93c2-8a5b03ebc8d1",
   "metadata": {
    "execution": {
     "iopub.execute_input": "2023-11-15T11:44:52.601528Z",
     "iopub.status.busy": "2023-11-15T11:44:52.600847Z",
     "iopub.status.idle": "2023-11-15T11:44:52.605490Z",
     "shell.execute_reply": "2023-11-15T11:44:52.605051Z"
    },
    "papermill": {
     "duration": 0.019453,
     "end_time": "2023-11-15T11:44:52.605788",
     "exception": false,
     "start_time": "2023-11-15T11:44:52.586335",
     "status": "completed"
    },
    "tags": []
   },
   "outputs": [],
   "source": [
    "# Retrieve the environment variables\n",
    "input_path = os.environ.get('INPUT')\n",
    "output_path = os.environ.get('OUTPUT')\n",
    "output_file = os.path.join(output_path, \"output_2.txt\")"
   ]
  },
  {
   "cell_type": "markdown",
   "id": "a54b3732-e2d0-4c66-a089-32328c212207",
   "metadata": {
    "papermill": {
     "duration": 0.007468,
     "end_time": "2023-11-15T11:44:52.622533",
     "exception": false,
     "start_time": "2023-11-15T11:44:52.615065",
     "status": "completed"
    },
    "tags": []
   },
   "source": [
    "# Use the service"
   ]
  },
  {
   "cell_type": "code",
   "execution_count": 5,
   "id": "f97746a2-eb2e-49d1-85dd-99b55d704347",
   "metadata": {
    "execution": {
     "iopub.execute_input": "2023-11-15T11:44:52.663451Z",
     "iopub.status.busy": "2023-11-15T11:44:52.662701Z",
     "iopub.status.idle": "2023-11-15T11:45:15.621299Z",
     "shell.execute_reply": "2023-11-15T11:45:15.620479Z"
    },
    "papermill": {
     "duration": 22.986534,
     "end_time": "2023-11-15T11:45:15.621645",
     "exception": false,
     "start_time": "2023-11-15T11:44:52.635111",
     "status": "completed"
    },
    "tags": []
   },
   "outputs": [
    {
     "name": "stdout",
     "output_type": "stream",
     "text": [
      "eydsYWJlbHMnOiBbJ1BpY2VhIG9ib3ZhdGEnLCAnUGljZWEgc2l0Y2hlbnNpcycsICdQaWNlYSBnbGF1Y2EnLCAnUGljZWEgYWJpZXMnLCAnQWJpZXMgZnJhc2VyaSddLCAncHJvYmFiaWxpdGllcyc6IFswLjcwNjkwMTg0ODMxNjE5MjYsIDAuMjIwODYwMDM0MjI3MzcxMjIsIDAuMDI5MjY1NzYxMzc1NDI3MjQ2LCAwLjAxNDkyNjY5ODk5MDE2NjE4NywgMC4wMDYzOTUzNzIwOTY0NDkxMzddLCAnbGFiZWxzX2luZm8nOiBbJycsICcnLCAnJywgJycsICcnXSwgJ2xpbmtzJzogeydHb29nbGUgSW1hZ2VzJzogWydodHRwczovL3d3dy5nb29nbGUuZXMvc2VhcmNoP3RibT1pc2NoJnE9UGljZWErb2JvdmF0YScsICdodHRwczovL3d3dy5nb29nbGUuZXMvc2VhcmNoP3RibT1pc2NoJnE9UGljZWErc2l0Y2hlbnNpcycsICdodHRwczovL3d3dy5nb29nbGUuZXMvc2VhcmNoP3RibT1pc2NoJnE9UGljZWErZ2xhdWNhJywgJ2h0dHBzOi8vd3d3Lmdvb2dsZS5lcy9zZWFyY2g/dGJtPWlzY2gmcT1QaWNlYSthYmllcycsICdodHRwczovL3d3dy5nb29nbGUuZXMvc2VhcmNoP3RibT1pc2NoJnE9QWJpZXMrZnJhc2VyaSddLCAnV2lraXBlZGlhJzogWydodHRwczovL2VuLndpa2lwZWRpYS5vcmcvd2lraS9QaWNlYV9vYm92YXRhJywgJ2h0dHBzOi8vZW4ud2lraXBlZGlhLm9yZy93aWtpL1BpY2VhX3NpdGNoZW5zaXMnLCAnaHR0cHM6Ly9lbi53aWtpcGVkaWEub3JnL3dpa2kvUGljZWFfZ2xhdWNhJywgJ2h0dHBzOi8vZW4ud2lraXBlZGlhLm9yZy93aWtpL1BpY2VhX2FiaWVzJywgJ2h0dHBzOi8vZW4ud2lraXBlZGlhLm9yZy93aWtpL0FiaWVzX2ZyYXNlcmknXX19Cg==\n",
      "\n"
     ]
    }
   ],
   "source": [
    "response = oscar_client.run_service(\"plant-classification\", input=input_path, output=output_file)\n",
    "if response.status_code == 200:\n",
    "    # Process grayify service response\n",
    "    data = response.text\n",
    "    # No need to create a new directory, as output_file already includes the correct path\n",
    "    # os.makedirs('./output/b64', exist_ok=True)  # Esta línea ya no es necesaria\n",
    "    # Use the output_file variable directly\n",
    "    print(data)\n",
    "    with open(output_file, 'w') as f:\n",
    "        f.write(data)\n",
    "else:\n",
    "    print(f\"Error in the execution of 'plant-classification' service: {response.status_code} {response.text}\")"
   ]
  }
 ],
 "metadata": {
  "kernelspec": {
   "display_name": "Python 3 (ipykernel)",
   "language": "python",
   "name": "python3"
  },
  "language_info": {
   "codemirror_mode": {
    "name": "ipython",
    "version": 3
   },
   "file_extension": ".py",
   "mimetype": "text/x-python",
   "name": "python",
   "nbconvert_exporter": "python",
   "pygments_lexer": "ipython3",
   "version": "3.10.6"
  },
  "papermill": {
   "default_parameters": {},
   "duration": 33.213387,
   "end_time": "2023-11-15T11:45:15.955165",
   "environment_variables": {},
   "exception": null,
   "input_path": "/home/jovyan/presentacion/ai4-compose/elyra/examples/Bratislava-2023/oscar_plants.ipynb",
   "output_path": "/home/jovyan/presentacion/ai4-compose/elyra/examples/Bratislava-2023/oscar_plants.ipynb",
   "parameters": {},
   "start_time": "2023-11-15T11:44:42.741778",
   "version": "2.4.0"
  }
 },
 "nbformat": 4,
 "nbformat_minor": 5
}